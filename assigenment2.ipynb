{
 "cells": [
  {
   "cell_type": "markdown",
   "id": "5fdc59cb-5b2d-4930-b437-8bf47eb28e46",
   "metadata": {},
   "source": [
    " # # 1.What is the difference between = and == in Python?"
   ]
  },
  {
   "cell_type": "code",
   "execution_count": null,
   "id": "9c811e69-0557-462b-9ac6-b534d859ce83",
   "metadata": {},
   "outputs": [],
   "source": [
    " In Python, the operators = and == serve very different purposes, and don't have much relation at all other than similar syntax. The = operator is used for assignment, such as when assigning a value to a variable. The == operator is the relational operator for checking equality of two values\n",
    "= is the assignment operator. It is used to assign a value to a variable.\n",
    "== is the equality comparison operator. It is used to compare two values and check if they are equal.\n"
   ]
  },
  {
   "cell_type": "code",
   "execution_count": 6,
   "id": "f393a9a8-5661-470e-9825-98336c3ab81d",
   "metadata": {},
   "outputs": [
    {
     "data": {
      "text/plain": [
       "True"
      ]
     },
     "execution_count": 6,
     "metadata": {},
     "output_type": "execute_result"
    }
   ],
   "source": [
    "abc = 40\n",
    "bcd = 40\n",
    "\n",
    "abc==bcd\n"
   ]
  },
  {
   "cell_type": "markdown",
   "id": "49dfdc90-4249-46f6-94b2-914ad168ee52",
   "metadata": {},
   "source": [
    "## # #  2.How does the not operator work with boolean values?"
   ]
  },
  {
   "cell_type": "code",
   "execution_count": null,
   "id": "bd83cf4b-8973-482b-887d-46da3f28e841",
   "metadata": {},
   "outputs": [],
   "source": [
    "The not operator reverses the value of a boolean value, returning the opposite value:\n",
    "True becomes false: The not operator changes a true value to a false value.\n",
    "False becomes true: The not operator changes a false value to a true value. \n",
    "The not operator is represented by an exclamation mark ( ! ). It's a unary prefix operator, meaning it's used with one operand and coded immediately in front of it. \n",
    "The not operator is different from the and and or operators because it always returns true or false, regardless of the operand. The and and or operators return true or false based on the operands, or one of the operands. \n"
   ]
  },
  {
   "cell_type": "code",
   "execution_count": 20,
   "id": "5fc34c45-15a6-4af2-826d-f69b618e619c",
   "metadata": {},
   "outputs": [
    {
     "name": "stdout",
     "output_type": "stream",
     "text": [
      "Its True\n"
     ]
    }
   ],
   "source": [
    "a = \"hello\"\n",
    "b = \"python\"\n",
    "if(a and b):\n",
    "    print(\"Its True\")"
   ]
  },
  {
   "cell_type": "code",
   "execution_count": 34,
   "id": "81260a80-f9e6-4062-8c4e-555e079199ba",
   "metadata": {},
   "outputs": [
    {
     "data": {
      "text/plain": [
       "False"
      ]
     },
     "execution_count": 34,
     "metadata": {},
     "output_type": "execute_result"
    }
   ],
   "source": [
    "a = 40\n",
    "result = not (a > 0)\n",
    "result"
   ]
  },
  {
   "cell_type": "markdown",
   "id": "cc4da73b-64c6-4ef0-b3b6-b3662ccff02d",
   "metadata": {},
   "source": [
    "### 3.Can you give an example of using the &amp; bitwise operator?"
   ]
  },
  {
   "cell_type": "code",
   "execution_count": null,
   "id": "ea1c8c8a-8341-4ab5-a95c-cc364ff869a3",
   "metadata": {},
   "outputs": [],
   "source": [
    "A simple example of using the bitwise AND operator (&) is to check if a specific bit is set in a number:\n",
    "Scenario: You want to check if the second bit from the right is set in the number 5 (binary: 0101).\n",
    "Code:"
   ]
  },
  {
   "cell_type": "code",
   "execution_count": 38,
   "id": "41707ebd-3668-4bda-9028-323df51f0dae",
   "metadata": {},
   "outputs": [
    {
     "name": "stdout",
     "output_type": "stream",
     "text": [
      "0\n"
     ]
    }
   ],
   "source": [
    "# AND  operators\n",
    "a = 10\n",
    "b = 5\n",
    "\n",
    "print(a&b)"
   ]
  },
  {
   "cell_type": "code",
   "execution_count": 40,
   "id": "d35d59a9-c18c-42fb-92ea-224477cc827b",
   "metadata": {},
   "outputs": [
    {
     "name": "stdout",
     "output_type": "stream",
     "text": [
      "60\n"
     ]
    }
   ],
   "source": [
    "# Not operators\n",
    "a = 20\n",
    "b = 40\n",
    "print(a|b)"
   ]
  },
  {
   "cell_type": "code",
   "execution_count": 49,
   "id": "23e510d6-81eb-4646-b058-2002f12f15e1",
   "metadata": {},
   "outputs": [
    {
     "name": "stdout",
     "output_type": "stream",
     "text": [
      "3\n"
     ]
    }
   ],
   "source": [
    "# x or operators\n",
    "b = 1\n",
    "c = 2\n",
    "print(b^c)"
   ]
  },
  {
   "cell_type": "markdown",
   "id": "cf1b9f44-a12d-4ede-beff-98abb0cfe68b",
   "metadata": {},
   "source": [
    "#### # # 4. How do you use the or logical operator in a condition?"
   ]
  },
  {
   "cell_type": "code",
   "execution_count": null,
   "id": "f9955452-f966-4ad9-979c-2d00faa908d1",
   "metadata": {},
   "outputs": [],
   "source": [
    "To use the \"or\" logical operator in a condition, you typically use the symbol \"||\" (double pipe) between two expressions, meaning that if either of those expressions evaluates to true, the entire condition is considered true; essentially, it checks if at least one of the conditions is me\n",
    "Key points about the \"or\" operator: \n",
    "Only one condition needs to be true:\n",
    "As long as one of the expressions on either side of the \"or\" operator evaluates to true, the entire condition is considered true."
   ]
  },
  {
   "cell_type": "code",
   "execution_count": 57,
   "id": "34dafdd5-348b-44b7-9c54-7690c4fa18b4",
   "metadata": {},
   "outputs": [
    {
     "name": "stdout",
     "output_type": "stream",
     "text": [
      "True\n"
     ]
    }
   ],
   "source": [
    "# And operators\n",
    "x = 5\n",
    "\n",
    "print(x > 3 and x < 10)"
   ]
  },
  {
   "cell_type": "code",
   "execution_count": 59,
   "id": "ce816e89-e9b5-48ff-8695-12f8b95831aa",
   "metadata": {},
   "outputs": [
    {
     "name": "stdout",
     "output_type": "stream",
     "text": [
      "True\n"
     ]
    }
   ],
   "source": [
    "# or operators \n",
    "\n",
    "x = 5\n",
    "\n",
    "print(x > 3 or x < 4)"
   ]
  },
  {
   "cell_type": "code",
   "execution_count": 61,
   "id": "08bc658b-753e-42fb-8211-489acb47b514",
   "metadata": {},
   "outputs": [
    {
     "name": "stdout",
     "output_type": "stream",
     "text": [
      "False\n"
     ]
    }
   ],
   "source": [
    "# not OPerators\n",
    "x = 5\n",
    "\n",
    "print(not(x > 3 and x < 10))\n"
   ]
  },
  {
   "cell_type": "markdown",
   "id": "f0403e66-6b53-473b-9599-0b11ab4931b0",
   "metadata": {},
   "source": [
    " # # How do you use the is operator in Python?"
   ]
  },
  {
   "cell_type": "code",
   "execution_count": null,
   "id": "428a0180-871b-40d5-9dc3-1d5da2c7ed13",
   "metadata": {},
   "outputs": [],
   "source": [
    "The is keyword is used to test if two variables refer to the same object. The test returns True if the two objects are the same object. The test returns False if they are not the same object, even if the two objects are\n"
   ]
  },
  {
   "cell_type": "code",
   "execution_count": 65,
   "id": "f1834b2f-8e88-43df-bfb2-dbcdbcb04a9e",
   "metadata": {},
   "outputs": [
    {
     "name": "stdout",
     "output_type": "stream",
     "text": [
      "70\n"
     ]
    }
   ],
   "source": [
    "# addition opeartor\n",
    "\n",
    "a = 20\n",
    "b = 50\n",
    "\n",
    "print(a+b )"
   ]
  },
  {
   "cell_type": "code",
   "execution_count": 67,
   "id": "eb51b23c-8300-4bc7-aedf-1d8d6d22dfeb",
   "metadata": {},
   "outputs": [
    {
     "name": "stdout",
     "output_type": "stream",
     "text": [
      "50\n"
     ]
    }
   ],
   "source": [
    "# subtraction opearor\n",
    "\n",
    "b = 60\n",
    "c = 10\n",
    "print(b-c)"
   ]
  },
  {
   "cell_type": "code",
   "execution_count": 69,
   "id": "d1570614-7e58-44a0-bf56-c133fd392443",
   "metadata": {},
   "outputs": [
    {
     "name": "stdout",
     "output_type": "stream",
     "text": [
      "1000\n"
     ]
    }
   ],
   "source": [
    "# multiplication \n",
    "\n",
    "x = 50\n",
    "y = 20\n",
    "\n",
    "print(x*y)"
   ]
  },
  {
   "cell_type": "code",
   "execution_count": 71,
   "id": "97683940-bb34-4a3c-97b7-2b7bbd34fff7",
   "metadata": {},
   "outputs": [
    {
     "name": "stdout",
     "output_type": "stream",
     "text": [
      "2.0\n"
     ]
    }
   ],
   "source": [
    "# division opeartor\n",
    "\n",
    "a = 100\n",
    "b = 50\n",
    "print (a/b)"
   ]
  },
  {
   "cell_type": "code",
   "execution_count": 73,
   "id": "74b25647-459c-44ad-b4b7-ecce0229f6f9",
   "metadata": {},
   "outputs": [
    {
     "name": "stdout",
     "output_type": "stream",
     "text": [
      "0\n"
     ]
    }
   ],
   "source": [
    "# modules opeartor\n",
    "\n",
    "a = 50\n",
    "b = 10\n",
    "print(a%b)"
   ]
  },
  {
   "cell_type": "code",
   "execution_count": 75,
   "id": "b0f8d82b-9ccb-4fd6-b5fc-8dcdc10b24c8",
   "metadata": {},
   "outputs": [
    {
     "name": "stdout",
     "output_type": "stream",
     "text": [
      "5\n"
     ]
    }
   ],
   "source": [
    "# assignment opeartors\n",
    "\n",
    "x = 5\n",
    "\n",
    "print(x)\n"
   ]
  },
  {
   "cell_type": "code",
   "execution_count": 77,
   "id": "95660387-fda2-41d0-baa0-ab24716d17c9",
   "metadata": {},
   "outputs": [
    {
     "name": "stdout",
     "output_type": "stream",
     "text": [
      "8\n"
     ]
    }
   ],
   "source": [
    "x = 5\n",
    "\n",
    "x += 3\n",
    "\n",
    "print(x)\n"
   ]
  },
  {
   "cell_type": "markdown",
   "id": "73147696-7f7e-4a53-b906-92b90bdf8e84",
   "metadata": {},
   "source": [
    " # # What is the difference between is and == when comparing two strings in Python?"
   ]
  },
  {
   "cell_type": "code",
   "execution_count": null,
   "id": "bab0fe2b-d864-407f-a699-40962bc97802",
   "metadata": {},
   "outputs": [],
   "source": [
    "is checks if both strings are stored in the same memory location.\n",
    "== checks if the content of both strings is identical."
   ]
  },
  {
   "cell_type": "code",
   "execution_count": 79,
   "id": "bdcb8d24-1c1b-4c25-9c34-ef56f05b9d0a",
   "metadata": {},
   "outputs": [
    {
     "name": "stdout",
     "output_type": "stream",
     "text": [
      "True\n",
      "True\n",
      "True\n"
     ]
    }
   ],
   "source": [
    "a = \"hello\"\n",
    "b = \"hello\"\n",
    "c = a\n",
    "\n",
    "print(a == b) \n",
    "print(a is b) \n",
    "print(a is c)"
   ]
  },
  {
   "cell_type": "markdown",
   "id": "258139bc-5339-4f39-95d9-82a920923d4b",
   "metadata": {},
   "source": [
    " # # Can you give an example of how the not in membership operator works?"
   ]
  },
  {
   "cell_type": "code",
   "execution_count": 82,
   "id": "c4116798-96e2-4330-ba74-726774504e1c",
   "metadata": {},
   "outputs": [
    {
     "name": "stdout",
     "output_type": "stream",
     "text": [
      "True\n",
      "False\n"
     ]
    }
   ],
   "source": [
    "fruits = [\"apple\", \"banana\", \"mango\"]\n",
    "\n",
    "print(\"orange\" not in fruits)  \n",
    "\n",
    "print(\"apple\" not in fruits)\n"
   ]
  },
  {
   "cell_type": "markdown",
   "id": "9f09da59-4429-4675-942a-1b1cb9809265",
   "metadata": {},
   "source": [
    " # # How do you use the &gt;= (greater than or equal to) comparison operator?"
   ]
  },
  {
   "cell_type": "code",
   "execution_count": null,
   "id": "a1673ec5-2163-4cd5-9976-b41471655cef",
   "metadata": {},
   "outputs": [],
   "source": [
    "The \"greater than or equal to\" comparison operator, represented by \"≥\" or \">=\" in most programming languages, is used to check if a value on the left side is either greater than or equal to the value on the right side; it returns \"true\" if the condition is met, and \"false\" otherwise."
   ]
  },
  {
   "cell_type": "code",
   "execution_count": 91,
   "id": "4c081f54-a32d-462e-959d-4574d494c8a0",
   "metadata": {},
   "outputs": [
    {
     "name": "stdout",
     "output_type": "stream",
     "text": [
      "True\n"
     ]
    }
   ],
   "source": [
    " a = 100\n",
    "b = 55\n",
    "print (a>=b)"
   ]
  },
  {
   "cell_type": "code",
   "execution_count": 97,
   "id": "53b442ee-076e-475d-8d10-ccad1b50cfb0",
   "metadata": {},
   "outputs": [
    {
     "name": "stdout",
     "output_type": "stream",
     "text": [
      "True\n"
     ]
    }
   ],
   "source": [
    "b = \"hello\"\n",
    "c = \"world\"\n",
    "print(b<=c)"
   ]
  },
  {
   "cell_type": "markdown",
   "id": "dbd11d16-fa04-4158-b6c7-b6362aceb702",
   "metadata": {},
   "source": [
    "# # Can you show how to use the in membership operator?"
   ]
  },
  {
   "cell_type": "code",
   "execution_count": 101,
   "id": "c4d0a677-8115-4655-b019-7f308571ba39",
   "metadata": {},
   "outputs": [
    {
     "name": "stdout",
     "output_type": "stream",
     "text": [
      "False\n"
     ]
    }
   ],
   "source": [
    "name = \"lokesh\"\n",
    "\n",
    "names_list = [\"satish\", \"sai\", \"mahesh\"]\n",
    "\n",
    "\n",
    "\n",
    "print(name in names_list)  "
   ]
  },
  {
   "cell_type": "code",
   "execution_count": 103,
   "id": "a6957510-0b64-4c67-9c64-2e144ddac7da",
   "metadata": {},
   "outputs": [
    {
     "name": "stdout",
     "output_type": "stream",
     "text": [
      "True\n"
     ]
    }
   ],
   "source": [
    "name = \"lokesh\"\n",
    "\n",
    "names_list = [\"satish\", \"sai\", \"lokesh\"]\n",
    "\n",
    "\n",
    "\n",
    "print(name in names_list)  "
   ]
  },
  {
   "cell_type": "code",
   "execution_count": null,
   "id": "66d8760c-90a6-4275-b965-0a54dd9716f2",
   "metadata": {},
   "outputs": [],
   "source": []
  }
 ],
 "metadata": {
  "kernelspec": {
   "display_name": "anaconda-panel-2023.05-py310",
   "language": "python",
   "name": "conda-env-anaconda-panel-2023.05-py310-py"
  },
  "language_info": {
   "codemirror_mode": {
    "name": "ipython",
    "version": 3
   },
   "file_extension": ".py",
   "mimetype": "text/x-python",
   "name": "python",
   "nbconvert_exporter": "python",
   "pygments_lexer": "ipython3",
   "version": "3.11.5"
  }
 },
 "nbformat": 4,
 "nbformat_minor": 5
}
