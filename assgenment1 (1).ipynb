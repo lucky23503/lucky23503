{
 "cells": [
  {
   "cell_type": "markdown",
   "id": "b8bd5d4b-36b1-42b5-89e8-3000b4ad5910",
   "metadata": {},
   "source": [
    "## **  1. what is python**"
   ]
  },
  {
   "cell_type": "code",
   "execution_count": null,
   "id": "22a6c362-dc46-4ff9-86ba-615ca0bd5f8d",
   "metadata": {},
   "outputs": [],
   "source": [
    "Python is a high-level, easy-to-learn programming language known for its simplicity and readability. It allows you to write code in a way that's close to human language, making it easier to understand and debug. \n",
    "Python is versatile and widely used in various fields, including web development, data analysis, artificial intelligence, and automation. Its clear syntax and extensive libraries make it a popular choice for both beginners and experienced programmers.\n"
   ]
  },
  {
   "cell_type": "markdown",
   "id": "81390995-f1f3-4f17-b7c3-5e574f9f13a3",
   "metadata": {},
   "source": [
    "### ** 2. what does the print() function do in python**\n",
    "\n",
    "In Python, the print() function outputs data to the standard output device, which is typically the console window. It takes one or more objects as input and displays their string representation on the screen.\n",
    "Converts to Strings: If the objects passed to print() are not already strings, they are converted to strings before being displayed.\n",
    "Separates Objects: By default, multiple objects are separated by spaces.\n",
    "Ends with Newline: Each call to print() ends with a newline character (\\n), which moves the cursor to the next line."
   ]
  },
  {
   "cell_type": "markdown",
   "id": "f1856fdf-b26d-43d2-8151-b6c2a870249d",
   "metadata": {},
   "source": [
    "name = \"lokesh\"\n",
    "age = 27\n",
    "\n",
    "print(\"Hello,\", name)\n",
    "print(\"Your age is:\", age)\n"
   ]
  },
  {
   "cell_type": "markdown",
   "id": "8ce9255b-d344-49be-908c-24320976ff92",
   "metadata": {},
   "source": [
    "## ** 3. what is the purpose of comments in python programming language**"
   ]
  },
  {
   "cell_type": "code",
   "execution_count": null,
   "id": "15327e7b-052a-481e-95a8-5fd8a6ec9d03",
   "metadata": {},
   "outputs": [],
   "source": [
    "Python comments are simple sentences that we use to make the code easier to understand. They explain your way of thinking and describe every step that you take to solve a coding problem. These sentences are not read by the Python interpreter when it executes the code.\n",
    "Comments in Python are used to make code more readable and maintainable, and to help developers understand the logic behind it: \n",
    "Explain the code\n",
    "Comments help explain the purpose and functionality of the code and the thought process behind it. \n",
    "Improve collaboration\n",
    "Comments help make code easier for other developers to understand, which can facilitate collaboration. \n",
    "Document changes\n",
    "Comments can document the reasons for code changes, such as bug fixes or enhancements. This can help future developers better understand the codebase. \n",
    "Prevent execution\n",
    "Comments can prevent code from executing when testing. \n"
   ]
  },
  {
   "cell_type": "markdown",
   "id": "266d8720-47bb-4939-b026-dfe1ae9881f7",
   "metadata": {},
   "source": [
    " 4. # # ** Provide an example of a syntax error &amp; semantic error in Python and\n",
    "explain why it is an error.**##\n",
    "    "
   ]
  },
  {
   "cell_type": "code",
   "execution_count": 43,
   "id": "f074e6ec-9fea-4bf3-bb59-e57921fe669b",
   "metadata": {},
   "outputs": [
    {
     "ename": "SyntaxError",
     "evalue": "invalid character '’' (U+2019) (2160624876.py, line 2)",
     "output_type": "error",
     "traceback": [
      "\u001b[0;36m  Cell \u001b[0;32mIn[43], line 2\u001b[0;36m\u001b[0m\n\u001b[0;31m    A syntax error occurs when the code doesn’t follow the rules of the Python language. It’s like making a grammatical mistake in a sentence—you’re not speaking the language correctly.\u001b[0m\n\u001b[0m                                             ^\u001b[0m\n\u001b[0;31mSyntaxError\u001b[0m\u001b[0;31m:\u001b[0m invalid character '’' (U+2019)\n"
     ]
    }
   ],
   "source": [
    "Syntax Error\n",
    "A syntax error occurs when the code doesn’t follow the rules of the Python language. It’s like making a grammatical mistake in a sentence—you’re not speaking the language correctly.\n",
    "\n",
    "a = (\"hello\"\n",
    "     b =(\"lokesh!\"\n",
    "         print(\"hello ,\"lokesh#!"
   ]
  },
  {
   "cell_type": "code",
   "execution_count": 55,
   "id": "41fee0cf-82e2-49c6-bf27-4ebacc89c694",
   "metadata": {},
   "outputs": [
    {
     "ename": "SyntaxError",
     "evalue": "invalid character '’' (U+2019) (261517980.py, line 1)",
     "output_type": "error",
     "traceback": [
      "\u001b[0;36m  Cell \u001b[0;32mIn[55], line 1\u001b[0;36m\u001b[0m\n\u001b[0;31m    A semantic error occurs when the code is syntactically correct but doesn’t do what you intended. It’s like writing a grammatically correct sentence that still doesn’t make sense or doesn’t achieve what you want.\u001b[0m\n\u001b[0m                                                                            ^\u001b[0m\n\u001b[0;31mSyntaxError\u001b[0m\u001b[0;31m:\u001b[0m invalid character '’' (U+2019)\n"
     ]
    }
   ],
   "source": [
    "A semantic error occurs when the code is syntactically correct but doesn’t do what you intended. It’s like writing a grammatically correct sentence that still doesn’t make sense or doesn’t achieve what you want.\n",
    "\n",
    "    a = \"10\"\n",
    "    b = 2\n",
    "print(2+'10')\n"
   ]
  },
  {
   "cell_type": "markdown",
   "id": "bb3cceaa-1981-46c8-8309-9bfb6bd80a23",
   "metadata": {},
   "source": [
    "## ** 5. What does case sensitivity mean in Python?**"
   ]
  },
  {
   "cell_type": "code",
   "execution_count": 61,
   "id": "c13c79d4-e34e-4c6f-a3e2-b38fadb4421d",
   "metadata": {},
   "outputs": [
    {
     "name": "stdout",
     "output_type": "stream",
     "text": [
      "lokesh\n"
     ]
    }
   ],
   "source": [
    "\n",
    "name = \"lokesh\"\n",
    "print(name)\n"
   ]
  },
  {
   "cell_type": "code",
   "execution_count": 64,
   "id": "4b585253-051e-454a-8dfb-42f468f28f1b",
   "metadata": {},
   "outputs": [
    {
     "name": "stdout",
     "output_type": "stream",
     "text": [
      "lokesh\n",
      "29\n",
      "nellore\n"
     ]
    }
   ],
   "source": [
    "Student_name = 'lokesh'\n",
    "student_age = '29'\n",
    "student_location = 'nellore'\n",
    "\n",
    "print(Student_name)\n",
    "print(student_age)\n",
    "print(student_location)"
   ]
  },
  {
   "cell_type": "markdown",
   "id": "701d00f4-f145-473c-b4d7-9d805293ccf9",
   "metadata": {},
   "source": [
    "#  6. Provide an example to illustrate how case sensitivity affects variable\n",
    "names in Python."
   ]
  },
  {
   "cell_type": "code",
   "execution_count": null,
   "id": "6b992adc-b798-44a1-9ebc-4c1e728ccb53",
   "metadata": {},
   "outputs": [],
   "source": [
    "Python identifiers, such as variable names, function names, and class names, are case sensitive. This means 'myVariable', 'myvariable', and 'MYVARIABLE\n",
    "Different Variables: \"name\" and \"Name\" are treated as distinct variables in Python\n"
   ]
  },
  {
   "cell_type": "code",
   "execution_count": 70,
   "id": "fc2e7b05-9e0b-4b4a-80b1-24357e1873d4",
   "metadata": {},
   "outputs": [
    {
     "name": "stdout",
     "output_type": "stream",
     "text": [
      "python\n",
      "javascript\n"
     ]
    }
   ],
   "source": [
    "name = \"python\"\n",
    "Name = \"javascript\"\n",
    "\n",
    "print(name)\n",
    "print(Name)"
   ]
  },
  {
   "cell_type": "code",
   "execution_count": 72,
   "id": "0239a99b-f415-4c93-b0e0-e3b1ebc6d7e7",
   "metadata": {},
   "outputs": [
    {
     "name": "stdout",
     "output_type": "stream",
     "text": [
      "nellore\n",
      "29\n"
     ]
    }
   ],
   "source": [
    "location = \"nellore\"\n",
    "Age = \"29\"\n",
    "\n",
    "print(location)\n",
    "print(Age)"
   ]
  },
  {
   "cell_type": "markdown",
   "id": "f23ec0b1-aea0-4d50-9135-a5c5b0279627",
   "metadata": {},
   "source": [
    "# # ** 7. What is the recommended naming convention for variables in Python?\n"
   ]
  },
  {
   "cell_type": "code",
   "execution_count": null,
   "id": "c9d8ee7d-837a-4095-8397-c7f33257454f",
   "metadata": {},
   "outputs": [],
   "source": [
    "A variable name must start with a letter or the underscore character. A variable name cannot begin with a number. A variable name can only contain alpha-numeric characters and underscores (A, 0-9, and _ )\n",
    "Use lowercase letters, Separate words with underscores (_), and Be descriptive and meaningful.\n"
   ]
  },
  {
   "cell_type": "code",
   "execution_count": 85,
   "id": "0e3feb18-07f1-49d4-9bf9-38559d0ff578",
   "metadata": {},
   "outputs": [
    {
     "name": "stdout",
     "output_type": "stream",
     "text": [
      "20\n",
      "28\n",
      "100.5\n"
     ]
    }
   ],
   "source": [
    "my_variable_name = 20\n",
    "user_age = 28\n",
    "total_price = 100.50\n",
    "\n",
    "print(my_variable_name)\n",
    "print(user_age)\n",
    "print(total_price)"
   ]
  },
  {
   "cell_type": "markdown",
   "id": "1be6c898-7b68-4aea-81f2-724af114cb0d",
   "metadata": {},
   "source": [
    "8. # What is the purpose of indentation in Python?"
   ]
  },
  {
   "cell_type": "code",
   "execution_count": null,
   "id": "0da13e4a-5aea-4189-a15c-6e592325856a",
   "metadata": {},
   "outputs": [],
   "source": [
    "Indentation in Python uses spaces or tabs to define blocks of \n",
    "Defining Code Blocks: Unlike many other programming languages that use curly braces {} or keywords like begin and end to define code blocks, Python uses indentation.\n"
   ]
  },
  {
   "cell_type": "markdown",
   "id": "1cacfdf9-3e15-4a6a-a9af-2ef608ddb202",
   "metadata": {},
   "source": [
    "# # 9.What is the current stable version of Python as of September 2024?"
   ]
  },
  {
   "cell_type": "code",
   "execution_count": null,
   "id": "fa5279ca-7b40-4d4d-81ab-2cc30011eb86",
   "metadata": {},
   "outputs": [],
   "source": [
    "As of September 2024, Python 3.12.6 and Python 3.10.15 are the most recent stable versions of Python: \n",
    "Python 3.12.6: This is the sixth maintenance release for Python 3.12, which addresses security issues. \n",
    "Python 3.10.15: This version was released on September 6, 2024. \n",
    "Python is available for download on a variety of operating systems, including Windows, Linux/UNIX, and macOS\n"
   ]
  },
  {
   "cell_type": "markdown",
   "id": "4f8dc4d7-6bfe-4115-8d6f-4f9a586389b4",
   "metadata": {},
   "source": [
    " four data types *\n",
    "\n",
    "1. INT\n",
    "2. float\n",
    "3. string\n",
    "4. boolean"
   ]
  },
  {
   "cell_type": "code",
   "execution_count": 116,
   "id": "0b8a235a-9a93-41a8-8c7e-9ad0ea51f290",
   "metadata": {},
   "outputs": [
    {
     "name": "stdout",
     "output_type": "stream",
     "text": [
      "10.5\n",
      "8.2\n"
     ]
    }
   ],
   "source": [
    " # Float\n",
    "\n",
    "x = 10.5\n",
    "y = 8.2\n",
    "\n",
    "print(x)\n",
    "print(y)\n"
   ]
  },
  {
   "cell_type": "code",
   "execution_count": 122,
   "id": "dffa34b0-8048-4f00-ae99-1e2e3c717a60",
   "metadata": {},
   "outputs": [
    {
     "name": "stdout",
     "output_type": "stream",
     "text": [
      "fullstack\n"
     ]
    }
   ],
   "source": [
    "# string\n",
    "\n",
    "a = \"full\"\n",
    "b = \"stack\"\n",
    "print(a+b)"
   ]
  },
  {
   "cell_type": "code",
   "execution_count": 142,
   "id": "a8d2da63-a17e-4a3f-9858-17dd3478c549",
   "metadata": {},
   "outputs": [
    {
     "name": "stdout",
     "output_type": "stream",
     "text": [
      "True\n",
      "False\n"
     ]
    }
   ],
   "source": [
    " # bool\n",
    "\n",
    "\n",
    "a = 12\n",
    "print(bool(a))\n",
    "\n",
    "b = 0\n",
    "print(bool(b))\n",
    "\n",
    "\n",
    "\n",
    "\n"
   ]
  },
  {
   "cell_type": "code",
   "execution_count": 146,
   "id": "3a2f701e-a5b1-4c55-bb4c-f31348b19989",
   "metadata": {},
   "outputs": [
    {
     "name": "stdout",
     "output_type": "stream",
     "text": [
      "<class 'int'>\n"
     ]
    }
   ],
   "source": [
    "# int \n",
    "\n",
    "a = 4\n",
    "b = -8\n",
    "c = 0\n",
    "\n",
    "print(int)"
   ]
  },
  {
   "cell_type": "code",
   "execution_count": null,
   "id": "16535d53-f1a3-4dcc-b3d3-6ca6e4685df8",
   "metadata": {},
   "outputs": [],
   "source": []
  }
 ],
 "metadata": {
  "kernelspec": {
   "display_name": "anaconda-ai-2024.04-py310",
   "language": "python",
   "name": "conda-env-anaconda-ai-2024.04-py310-py"
  },
  "language_info": {
   "codemirror_mode": {
    "name": "ipython",
    "version": 3
   },
   "file_extension": ".py",
   "mimetype": "text/x-python",
   "name": "python",
   "nbconvert_exporter": "python",
   "pygments_lexer": "ipython3",
   "version": "3.10.13"
  }
 },
 "nbformat": 4,
 "nbformat_minor": 5
}
