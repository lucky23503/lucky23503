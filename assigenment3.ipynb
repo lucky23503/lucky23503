{
 "cells": [
  {
   "cell_type": "markdown",
   "id": "545abfe7-6324-4c13-bb4f-20ab0af0a12a",
   "metadata": {},
   "source": [
    "# # What are Data Structures in Python?"
   ]
  },
  {
   "cell_type": "code",
   "execution_count": null,
   "id": "2f078388-18bb-41e7-a29b-8bdf0b6808ec",
   "metadata": {},
   "outputs": [],
   "source": [
    "Data structures are ways to organize and store data efficiently. They help you manage and manipulate data in various ways. The most commonly used data structures in Python are lists, tuples, sets, and dictionaries."
   ]
  },
  {
   "cell_type": "code",
   "execution_count": null,
   "id": "d6f4b500-5141-4049-9690-595956575672",
   "metadata": {},
   "outputs": [],
   "source": [
    "four types data structures\n",
    "1.list\n",
    "2.tuples\n",
    "3.sets\n",
    "4.dict"
   ]
  },
  {
   "cell_type": "code",
   "execution_count": 22,
   "id": "e5deadcc-bfc9-4ff0-815b-087310b1ca9e",
   "metadata": {},
   "outputs": [
    {
     "data": {
      "text/plain": [
       "['apple', 24, 54.3, True]"
      ]
     },
     "execution_count": 22,
     "metadata": {},
     "output_type": "execute_result"
    }
   ],
   "source": [
    "my_list = ['apple', 24, 54.3, True]\n",
    "my_list"
   ]
  },
  {
   "cell_type": "code",
   "execution_count": 24,
   "id": "04b76e1c-293e-48d9-b06e-4a9030942287",
   "metadata": {},
   "outputs": [
    {
     "data": {
      "text/plain": [
       "54.3"
      ]
     },
     "execution_count": 24,
     "metadata": {},
     "output_type": "execute_result"
    }
   ],
   "source": [
    "my_list[2]"
   ]
  },
  {
   "cell_type": "code",
   "execution_count": 26,
   "id": "e80790f7-2dba-463c-8612-27dd9947a71e",
   "metadata": {},
   "outputs": [
    {
     "data": {
      "text/plain": [
       "'apple'"
      ]
     },
     "execution_count": 26,
     "metadata": {},
     "output_type": "execute_result"
    }
   ],
   "source": [
    "my_list[0]"
   ]
  },
  {
   "cell_type": "code",
   "execution_count": 45,
   "id": "61f94178-e3d2-47bc-a85d-c6581c349175",
   "metadata": {},
   "outputs": [
    {
     "data": {
      "text/plain": [
       "(45, 23, 78, 'lokesh', True, 47.44)"
      ]
     },
     "execution_count": 45,
     "metadata": {},
     "output_type": "execute_result"
    }
   ],
   "source": [
    "my_tuple = (45,23,78, \"lokesh\", True, 47.44)\n",
    "my_tuple"
   ]
  },
  {
   "cell_type": "code",
   "execution_count": 48,
   "id": "675d6011-4809-4c3d-a1a1-b1079f79d2ed",
   "metadata": {},
   "outputs": [
    {
     "data": {
      "text/plain": [
       "{54, 'orange', 'python'}"
      ]
     },
     "execution_count": 48,
     "metadata": {},
     "output_type": "execute_result"
    }
   ],
   "source": [
    "my_set = {\"python\", \"python\", \"orange\", 54}\n",
    "my_set"
   ]
  },
  {
   "cell_type": "code",
   "execution_count": 52,
   "id": "e44eb796-6800-4f64-9322-a832522dfb44",
   "metadata": {},
   "outputs": [
    {
     "data": {
      "text/plain": [
       "{'name': 'lokesh', 'Age': 17, 'Location': 'vijayawada'}"
      ]
     },
     "execution_count": 52,
     "metadata": {},
     "output_type": "execute_result"
    }
   ],
   "source": [
    "my_dict = {\"name\": \"lokesh\", \"Age\": 17, \"Location\": \"Vijayawada\"}\n",
    "my_dict\n"
   ]
  },
  {
   "cell_type": "code",
   "execution_count": 61,
   "id": "95d08bab-c2c1-4b28-9bbf-34befc1bc2cb",
   "metadata": {},
   "outputs": [
    {
     "data": {
      "text/plain": [
       "dict_keys(['name', 'Age', 'Location'])"
      ]
     },
     "execution_count": 61,
     "metadata": {},
     "output_type": "execute_result"
    }
   ],
   "source": [
    "my_dict.keys()"
   ]
  },
  {
   "cell_type": "code",
   "execution_count": 63,
   "id": "a1e9a019-cf83-428c-a976-bc32e828c368",
   "metadata": {},
   "outputs": [
    {
     "data": {
      "text/plain": [
       "dict_values(['lokesh', 17, 'vijayawada'])"
      ]
     },
     "execution_count": 63,
     "metadata": {},
     "output_type": "execute_result"
    }
   ],
   "source": [
    "my_dict.values()"
   ]
  },
  {
   "cell_type": "code",
   "execution_count": 66,
   "id": "590cc565-068e-4ea9-bd6e-a40fe8b9e5e0",
   "metadata": {},
   "outputs": [
    {
     "data": {
      "text/plain": [
       "dict_items([('name', 'lokesh'), ('Age', 17), ('Location', 'vijayawada')])"
      ]
     },
     "execution_count": 66,
     "metadata": {},
     "output_type": "execute_result"
    }
   ],
   "source": [
    "my_dict.items()"
   ]
  },
  {
   "cell_type": "markdown",
   "id": "e8485059-6f15-4457-a040-66de1683ab61",
   "metadata": {},
   "source": [
    "# # Define a List in Python and provide an example of how to use it."
   ]
  },
  {
   "cell_type": "code",
   "execution_count": null,
   "id": "a94f63ac-cd29-49e7-b4f3-d6ef8ff14f7e",
   "metadata": {},
   "outputs": [],
   "source": [
    "A list in Python is a built-in data structure that allows you to store an ordered collection of items (like numbers, strings, or even other lists) within square brackets ([]), where each item is separated by a comma, making it a flexible way to group related data; importantly, lists are mutable, meaning you can change their elements after creation"
   ]
  },
  {
   "cell_type": "code",
   "execution_count": 73,
   "id": "076c50a4-84ec-4545-8d46-6b95c0aba4ef",
   "metadata": {},
   "outputs": [
    {
     "name": "stdout",
     "output_type": "stream",
     "text": [
      "banana\n"
     ]
    }
   ],
   "source": [
    "fruits = [\"apple\", \"banana\", \"orange\", \"mango\"]\n",
    "print(fruits[1])"
   ]
  },
  {
   "cell_type": "markdown",
   "id": "a9d4f004-3775-4fd2-a848-875481d76ff7",
   "metadata": {},
   "source": [
    "# # What is a Tuple in Python and how is it different from a List?\n",
    "Provide an example.# #"
   ]
  },
  {
   "cell_type": "code",
   "execution_count": null,
   "id": "7aceebf8-e34b-4d54-8720-02ce1f324b26",
   "metadata": {},
   "outputs": [],
   "source": [
    "A tuple in Python is an ordered collection of data similar to a list, but the key difference is that a tuple is immutable, meaning you cannot change its elements once created, while a list is mutable and allows modifications after creation; tuples are defined using parentheses, while lists use square brackets. \n"
   ]
  },
  {
   "cell_type": "code",
   "execution_count": 75,
   "id": "0799e6c7-7c34-4d87-a903-e2c1cfa39d82",
   "metadata": {},
   "outputs": [
    {
     "data": {
      "text/plain": [
       "(1, 'hello', True)"
      ]
     },
     "execution_count": 75,
     "metadata": {},
     "output_type": "execute_result"
    }
   ],
   "source": [
    " my_tuple = (1, \"hello\", True) \n",
    "my_tuple"
   ]
  },
  {
   "cell_type": "markdown",
   "id": "d02c79bb-1c50-4dd7-ad2d-0adca4a89a9b",
   "metadata": {},
   "source": [
    "# # Explain what a Set is in Python and provide an example of its\n",
    "usage."
   ]
  },
  {
   "cell_type": "code",
   "execution_count": null,
   "id": "13955ba8-4c72-4316-a403-43c28dd7f237",
   "metadata": {},
   "outputs": [],
   "source": [
    "Set is a data type in python used to store several items in a single variable. It is one of the four built-in data types (List, Dictionary, Tuple, and Set) having qualities and usage different from the other three. It is a collection that is written with curly brackets and is both unindexed and unordered."
   ]
  },
  {
   "cell_type": "markdown",
   "id": "ecbdd06f-1919-4eeb-8c92-be4848854abe",
   "metadata": {},
   "source": [
    "# # Describe a Dictionary in Python and give an example of its\n",
    "usage."
   ]
  },
  {
   "cell_type": "code",
   "execution_count": 110,
   "id": "0af31cd7-62ca-4c62-95d4-39dc6e7df417",
   "metadata": {},
   "outputs": [
    {
     "ename": "SyntaxError",
     "evalue": "unterminated string literal (detected at line 7) (1546484532.py, line 7)",
     "output_type": "error",
     "traceback": [
      "\u001b[0;36m  Cell \u001b[0;32mIn[110], line 7\u001b[0;36m\u001b[0m\n\u001b[0;31m    print([\"student[\"name\"])\u001b[0m\n\u001b[0m                         ^\u001b[0m\n\u001b[0;31mSyntaxError\u001b[0m\u001b[0;31m:\u001b[0m unterminated string literal (detected at line 7)\n"
     ]
    }
   ],
   "source": [
    "student = {\n",
    "    \"name\": \"lokesh\",\n",
    "    \"age\": 27,\n",
    "    \"major\": \"Computer science\"\n",
    "}\n",
    "\n",
    "print([\"student[\"name\"])\n",
    "print(student[\"major\"])"
   ]
  },
  {
   "cell_type": "markdown",
   "id": "26845821-e42a-4844-97a8-6fc78812f705",
   "metadata": {},
   "source": [
    "# # Compare and contrast Lists and Tuples. When would you choose\n",
    "one over the other?"
   ]
  },
  {
   "cell_type": "code",
   "execution_count": null,
   "id": "a1ebae39-9369-4815-ae18-ab6757483105",
   "metadata": {},
   "outputs": [],
   "source": [
    "In Python, both lists and tuples are used to store ordered collections of data, but the key difference is that lists are mutable (can be changed) while tuples are immutable (cannot be changed after creation); therefore, you should use a list when you need to frequently modify data and a tuple when you want to ensure data remains fixed and cannot be altered accidentally"
   ]
  },
  {
   "cell_type": "markdown",
   "id": "b7ec4f75-70f0-4f55-be9f-953a3bb95ae2",
   "metadata": {},
   "source": [
    "# # How does a Set differ from a List and a Dictionary? Provide\n",
    "examples to illustrate these differences."
   ]
  },
  {
   "cell_type": "code",
   "execution_count": null,
   "id": "eaa5d9ac-3742-4014-9241-35c907c630c9",
   "metadata": {},
   "outputs": [],
   "source": [
    "Sets are mutable, iterable collections of unique data types. A dictionary in Python is an unordered collection used for storing key: value pairs. A list is a non-homogeneous data structure that stores elements in columns and rows. A tuple is a non-homogeneous data structure that stores elements in columns and rows"
   ]
  }
 ],
 "metadata": {
  "kernelspec": {
   "display_name": "anaconda-panel-2023.05-py310",
   "language": "python",
   "name": "conda-env-anaconda-panel-2023.05-py310-py"
  },
  "language_info": {
   "codemirror_mode": {
    "name": "ipython",
    "version": 3
   },
   "file_extension": ".py",
   "mimetype": "text/x-python",
   "name": "python",
   "nbconvert_exporter": "python",
   "pygments_lexer": "ipython3",
   "version": "3.11.5"
  }
 },
 "nbformat": 4,
 "nbformat_minor": 5
}
