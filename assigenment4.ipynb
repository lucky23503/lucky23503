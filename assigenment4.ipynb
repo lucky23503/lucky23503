{
 "cells": [
  {
   "cell_type": "code",
   "execution_count": null,
   "id": "e5e43638-dcf7-458b-8397-9faf9a81f7b9",
   "metadata": {},
   "outputs": [],
   "source": [
    "Write a Python code snippet that takes a score (0 to 100) and prints a letter grade based on the following scale:"
   ]
  },
  {
   "cell_type": "code",
   "execution_count": null,
   "id": "63b31b61-9f66-4f19-8b61-917f58b7903c",
   "metadata": {},
   "outputs": [],
   "source": [
    "Copy Code try: marks = float(input(\"Please enter the marks (0-100): \")) # Validate the marks are within a plausible range (0-100) if 0 <= marks <= 100: if marks >= 90: grade = 'A' elif marks >= 80: grade = 'B' elif marks >= 70: grade = 'C' elif marks >= 60: grade = 'D' else: grade = 'F' print(\"Grade:\", grade) else: ..."
   ]
  },
  {
   "cell_type": "code",
   "execution_count": 1,
   "id": "6822bb94-d46a-42ab-8247-1c9595b1beea",
   "metadata": {},
   "outputs": [
    {
     "name": "stdin",
     "output_type": "stream",
     "text": [
      "Enter your score (0-100):  100\n"
     ]
    },
    {
     "name": "stdout",
     "output_type": "stream",
     "text": [
      "Your letter grade is: A\n"
     ]
    }
   ],
   "source": [
    "def get_letter_grade (score):\n",
    "    if score >90:\n",
    "        return \"A\"\n",
    "    elif score >= 80:\n",
    "        return \"B\"\n",
    "    elif score >= 70:\n",
    "        return \"c\"\n",
    "    elif score >= 60:\n",
    "        return \"D\"\n",
    "    else:\n",
    "        return \"F\"\n",
    "\n",
    "user_score = int(input(\"Enter your score (0-100): \"))\n",
    "print(f\"Your letter grade is: {get_letter_grade(user_score)}\")"
   ]
  },
  {
   "cell_type": "code",
   "execution_count": 3,
   "id": "a9a127f9-6398-4edf-a9e0-bc9ec3876f41",
   "metadata": {},
   "outputs": [
    {
     "name": "stdin",
     "output_type": "stream",
     "text": [
      "Enter your score (0-100):  80\n"
     ]
    },
    {
     "name": "stdout",
     "output_type": "stream",
     "text": [
      "Your letter grade is: B\n"
     ]
    }
   ],
   "source": [
    "user_score = int(input(\"Enter your score (0-100): \"))\n",
    "print(f\"Your letter grade is: {get_letter_grade(user_score)}\")\n"
   ]
  },
  {
   "cell_type": "code",
   "execution_count": null,
   "id": "25ea4101-fc6e-4aa2-bc7e-aa861f461062",
   "metadata": {},
   "outputs": [],
   "source": [
    "Write a Python code snippet that takes an integer (1-7) and prints the corresponding day of the week. For example, 1 should print \"Monday\", 2 should print \"Tuesday\", and so on."
   ]
  },
  {
   "cell_type": "code",
   "execution_count": 7,
   "id": "0ad3007e-cc38-4e10-bc56-5b08454d30af",
   "metadata": {},
   "outputs": [
    {
     "name": "stdin",
     "output_type": "stream",
     "text": [
      "Enter a day number (1-7):  2\n"
     ]
    },
    {
     "name": "stdout",
     "output_type": "stream",
     "text": [
      "Tuesday\n"
     ]
    }
   ],
   "source": [
    "def print_day(day_num):\n",
    "  \"\"\"\n",
    "  Takes an integer (1-7) and prints the corresponding day of the week.\n",
    "  \"\"\"\n",
    "  days = {\n",
    "    1: \"Monday\",\n",
    "    2: \"Tuesday\",\n",
    "    3: \"Wednesday\",\n",
    "    4: \"Thursday\",\n",
    "    5: \"Friday\",\n",
    "    6: \"Saturday\",\n",
    "    7: \"Sunday\"\n",
    "  }\n",
    "  print(days.get(day_num, \"Invalid day number\"))\n",
    "\n",
    "\n",
    "day_number = int(input(\"Enter a day number (1-7): \"))\n",
    "print_day(day_number)"
   ]
  },
  {
   "cell_type": "code",
   "execution_count": 11,
   "id": "0a0dd97f-1425-4b17-ae8b-ca68919976e3",
   "metadata": {},
   "outputs": [
    {
     "name": "stdin",
     "output_type": "stream",
     "text": [
      "Enter an integer:  1\n"
     ]
    }
   ],
   "source": [
    "def is_prime(num):\n",
    "    if num <= 1:\n",
    "        return False\n",
    "    for i in range(2, int(num**0.5) + 1):\n",
    "        if num % i == 0:\n",
    "            return False\n",
    "    return True\n",
    "\n",
    "# Read an integer from the user\n",
    "num = int(input(\"Enter an integer: \"))"
   ]
  },
  {
   "cell_type": "code",
   "execution_count": 13,
   "id": "aeb812a9-8d8f-4da0-abc1-a2ab875b3cc8",
   "metadata": {},
   "outputs": [
    {
     "name": "stdin",
     "output_type": "stream",
     "text": [
      "Enter an integer:  0\n"
     ]
    }
   ],
   "source": [
    "# Read an integer from the user\n",
    "num = int(input(\"Enter an integer: \"))\n"
   ]
  },
  {
   "cell_type": "code",
   "execution_count": null,
   "id": "3131e27c-e8de-4169-b538-7cfbf7914b3c",
   "metadata": {},
   "outputs": [],
   "source": [
    "Write a Python code snippet that compares two strings and prints which one is lexicographically greater. If they are equal, print \"Equal\"."
   ]
  },
  {
   "cell_type": "code",
   "execution_count": 15,
   "id": "89502573-1ca6-42b6-8ea2-35ed1d8f3b8b",
   "metadata": {},
   "outputs": [
    {
     "name": "stdout",
     "output_type": "stream",
     "text": [
      "banana is lexicographically greater.\n",
      "hello is lexicographically greater.\n",
      "Equal\n"
     ]
    }
   ],
   "source": [
    "def compare_strings(str1, str2):\n",
    "    if str1 > str2:\n",
    "        print(str1, \"is lexicographically greater.\")\n",
    "    elif str1 < str2:\n",
    "        print(str2, \"is lexicographically greater.\")\n",
    "    else:\n",
    "        print(\"Equal\")\n",
    "\n",
    "\n",
    "compare_strings(\"apple\", \"banana\")\n",
    "compare_strings(\"hello\", \"Hello\")\n",
    "compare_strings(\"world\", \"world\")"
   ]
  },
  {
   "cell_type": "code",
   "execution_count": 17,
   "id": "4f07e6a7-cde8-4fe7-a61d-8d4b069d54db",
   "metadata": {},
   "outputs": [
    {
     "name": "stdout",
     "output_type": "stream",
     "text": [
      "Final price: 80.0\n"
     ]
    }
   ],
   "source": [
    "def calculate_discounted_price(item_price, is_member):\n",
    "    \"\"\"\n",
    "    Calculates the discounted price of an item based on membership status. \n",
    "    \n",
    "    Args:\n",
    "        item_price (float): Original price of the item.\n",
    "        is_member (bool): True if the customer is a member, False otherwise.\n",
    "    \n",
    "    Returns:\n",
    "        float: Discounted price of the item.\n",
    "    \"\"\"\n",
    "    if is_member:\n",
    "        discount = 0.2  # 20% discount for members\n",
    "    else:\n",
    "        discount = 0.1  # 10% discount for non-members\n",
    "    discounted_price = item_price * (1 - discount)\n",
    "    return discounted_price\n",
    "\n",
    "# Example usage\n",
    "original_price = 100\n",
    "customer_is_member = True  # Change to False to test non-member price\n",
    "\n",
    "final_price = calculate_discounted_price(original_price, customer_is_member)\n",
    "print(f\"Final price: {final_price}\")"
   ]
  },
  {
   "cell_type": "code",
   "execution_count": 21,
   "id": "bec78dee-075f-4da3-9f4e-13b7d72e1e08",
   "metadata": {},
   "outputs": [
    {
     "ename": "SyntaxError",
     "evalue": "invalid syntax (3091573205.py, line 1)",
     "output_type": "error",
     "traceback": [
      "\u001b[0;36m  Cell \u001b[0;32mIn[21], line 1\u001b[0;36m\u001b[0m\n\u001b[0;31m    ef fizz_buzz(n):\u001b[0m\n\u001b[0m       ^\u001b[0m\n\u001b[0;31mSyntaxError\u001b[0m\u001b[0;31m:\u001b[0m invalid syntax\n"
     ]
    }
   ],
   "source": [
    "ef fizz_buzz(n):\n",
    "    for i in range(1, n + 1):\n",
    "        if i % 3 == 0 and i % 5 == 0:\n",
    "            print(\"FizzBuzz\")\n",
    "        elif i % 3 == 0:\n",
    "            print(\"Fizz\")\n",
    "        elif i % 5 == 0:\n",
    "            print(\"Buzz\")\n",
    "        else:\n",
    "            print(i)\n",
    "\n",
    "# Read an integer from the user\n",
    "n = int(input(\"Enter the value of n: \"))\n",
    "\n",
    "# Print Fizz, Buzz, or FizzBuzz for numbers from 1 to"
   ]
  },
  {
   "cell_type": "code",
   "execution_count": 29,
   "id": "21fca9d1-f2d9-4fb7-8446-b824aa481aae",
   "metadata": {},
   "outputs": [
    {
     "name": "stdin",
     "output_type": "stream",
     "text": [
      "Enter the temperature in Celsius:  100\n"
     ]
    },
    {
     "name": "stdout",
     "output_type": "stream",
     "text": [
      "Temperature in Fahrenheit: 212.00°F\n",
      "Hot\n"
     ]
    }
   ],
   "source": [
    "def celsius_to_fahrenheit(celsius):\n",
    "    return (celsius * 9/5) + 32\n",
    "\n",
    "# Read temperature in Celsius from the user\n",
    "celsius = float(input(\"Enter the temperature in Celsius: \"))\n",
    "\n",
    "# Convert Celsius to Fahrenheit\n",
    "fahrenheit = celsius_to_fahrenheit(celsius)\n",
    "\n",
    "# Print the converted temperature and categorize it\n",
    "print(f\"Temperature in Fahrenheit: {fahrenheit:.2f}°F\")\n",
    "\n",
    "if fahrenheit > 100:\n",
    "    print(\"Hot\")\n",
    "elif 32 <= fahrenheit <= 100:\n",
    "    print(\"Warm\")\n",
    "else:\n",
    "    print(\"Cold\")"
   ]
  },
  {
   "cell_type": "code",
   "execution_count": 32,
   "id": "4ce43f79-30c4-4abb-a71e-990483fec0a0",
   "metadata": {},
   "outputs": [
    {
     "name": "stdin",
     "output_type": "stream",
     "text": [
      "Enter the first number:  1\n",
      "Enter the second number:  2\n",
      "Enter the third number:  3\n"
     ]
    },
    {
     "name": "stdout",
     "output_type": "stream",
     "text": [
      "The maximum number is: 3.0\n"
     ]
    }
   ],
   "source": [
    "# Read three numbers from the user\n",
    "num1 = float(input(\"Enter the first number: \"))\n",
    "num2 = float(input(\"Enter the second number: \"))\n",
    "num3 = float(input(\"Enter the third number: \"))\n",
    "\n",
    "# Determine the maximum number using nested conditionals\n",
    "if num1 >= num2:\n",
    "    if num1 >= num3:\n",
    "        max_num = num1\n",
    "    else:\n",
    "        max_num = num3\n",
    "else:\n",
    "    if num2 >= num3:\n",
    "        max_num = num2\n",
    "    else:\n",
    "        max_num = num3\n",
    "\n",
    "# Print the maximum value\n",
    "print(f\"The maximum number is: {max_num}\")"
   ]
  },
  {
   "cell_type": "code",
   "execution_count": null,
   "id": "5a02f1e1-273c-48b4-bfbb-103303ec714c",
   "metadata": {},
   "outputs": [],
   "source": [
    "Write a Python code snippet that calculates the final price of an item after applying different discounts based on the quantity purchased. Apply a 5% discount for quantities between 1 and 10, a 10% discount for quantities between 11 and 50, and a 15% discount for quantities above 50. Print the final price."
   ]
  },
  {
   "cell_type": "code",
   "execution_count": null,
   "id": "c62a8769-d343-495d-bb55-c22eb7f6914d",
   "metadata": {},
   "outputs": [],
   "source": [
    "def calculate_final_price(quantity, price_per_item):\n",
    "    if 1 <= quantity <= 10:\n",
    "        discount = 0.05  # 5% discount\n",
    "    elif 11 <= quantity <= 50:\n",
    "        discount = 0.10  # 10% discount\n",
    "    elif quantity > 50:\n",
    "        discount = 0.15  # 15% discount\n",
    "    else:\n",
    "        discount = 0.0   # No discount if quantity is 0 or less\n",
    "\n",
    "    total_price = quantity * price_per_item\n",
    "    discount_amount = total_price * discount\n",
    "    final_price = total_price - discount_amount\n",
    "\n",
    "    return final_price\n",
    "\n",
    "# Read the quantity and price per item from the user\n",
    "quantity = int(input(\"Enter the quantity of items: \"))\n",
    "price_per_item = float(input(\"Enter the price per item: \"))\n",
    "\n",
    "# Calculate the final price after applying the discount\n",
    "final_price = calculate_final_price(quantity, price_per_item)\n",
    "\n",
    "# Print the final price\n",
    "print(f\"The final price after applying the discount is: ${final_price:.2f}\")\n"
   ]
  },
  {
   "cell_type": "code",
   "execution_count": null,
   "id": "9f07627c-94dd-4c05-b4ca-cc9a97e519a4",
   "metadata": {},
   "outputs": [],
   "source": []
  }
 ],
 "metadata": {
  "kernelspec": {
   "display_name": "anaconda-panel-2023.05-py310",
   "language": "python",
   "name": "conda-env-anaconda-panel-2023.05-py310-py"
  },
  "language_info": {
   "codemirror_mode": {
    "name": "ipython",
    "version": 3
   },
   "file_extension": ".py",
   "mimetype": "text/x-python",
   "name": "python",
   "nbconvert_exporter": "python",
   "pygments_lexer": "ipython3",
   "version": "3.11.5"
  }
 },
 "nbformat": 4,
 "nbformat_minor": 5
}
